{
 "cells": [
  {
   "cell_type": "markdown",
   "id": "37abc8d4-18eb-475f-aa62-c464070f13ef",
   "metadata": {},
   "source": [
    "#### Trading mechanism\n",
    "\n",
    "In a Perpetual Futures market, traders are periodically awarded or penalized by a 'funding rate' based on whether their entry positions are above or below the price of the asset in the spot market, and whether they are long or short the position. \n",
    "\n",
    "For example, a trader who is long BTC at `$`40,000 will receive the funding rate if the spot price is `$`42,000 at the time of funding. A trader who is short (indeed, the trader who took the opposite side of the long position) will have to pay the same funding rate to the exchange. Since every long position is matched with a short position, the traders are basically paying each other each period, provided they have balances in their accounts. \n",
    "\n",
    "Since the funding depends on the spot price data provided exogneously to the perpetual market, to create our simulation, we first need a data-generating process that creates these spot prices.\n",
    "\n",
    "#### External price data for simulation\n",
    "\n",
    "We will first simulate this external 'spot' price using a Geometric Brownian Motion (GBM) data-generating process. This is the most commonly used model for simulating stock prices \\<will include citation source\\>. \n",
    "\n",
    "A GBM is a stochastic process governed by the following equation:\n",
    "\n",
    "$ S_t = S_0 exp((\\mu - \\frac{\\sigma}{2}) + \\sigma W_t )$\n",
    "\n",
    "Where:\n",
    "\n",
    "$t$ : time \n",
    "\n",
    "$S_t$ : the price at time $t$\n",
    "\n",
    "$S_0$ : the price at $t = 0$\n",
    "\n",
    "$\\mu$ : a 'drift' variable representing the trend of the price movement\n",
    "\n",
    "$\\sigma$ : the volatility or variation of the prices (standard deviation). In this formulation, the volatility is constant, which is not very realistic. This will be addressed later.\n",
    "\n",
    "$W_t$ : a 'weiner process' representing the unpredictability of the prices (here a random walk)\n",
    "\n",
    "##### Sample Code:"
   ]
  },
  {
   "cell_type": "code",
   "execution_count": 20,
   "id": "81f9ca5b-ba34-446a-9293-68740a7d66b7",
   "metadata": {},
   "outputs": [
    {
     "data": {
      "image/png": "[encoded data removed]",
      "text/plain": [
       "<Figure size 432x288 with 1 Axes>"
      ]
     },
     "metadata": {
      "needs_background": "light"
     },
     "output_type": "display_data"
    }
   ],
   "source": [
    "import numpy as np\n",
    "import matplotlib.pyplot as plt\n",
    "\n",
    "# Time horizon over which the data will be generated. Can be understood as any period we so choose\n",
    "Time_horizon = 2\n",
    "\n",
    "mu = 0.1\n",
    "sigma = 0.1\n",
    "S0 = 20\n",
    "# Time interval for each server tick\n",
    "dt = 0.01\n",
    "\n",
    "# Number of server ticks in given time period\n",
    "N = round(Time_horizon/dt)\n",
    "\n",
    "# Generate the server ticks as a vector of length N, with interval dt (linspace splits T N times, starting at 0 here)\n",
    "t = np.linspace(0, T, N)\n",
    "\n",
    "# Generate weiner process \n",
    "# Draw N values from normal distribution for increment/decrement at each server tick, \n",
    "W = np.random.standard_normal(size = N) \n",
    "# then sum them cumulatively to get random walk\n",
    "W = np.cumsum(W)*np.sqrt(dt) \n",
    "\n",
    "# Generate GBM using formula\n",
    "S = S0*np.exp((mu-0.5*sigma**2)*t + sigma*W)\n",
    "\n",
    "# Plot\n",
    "plt.plot(t, S)\n",
    "plt.show()"
   ]
  },
  {
   "cell_type": "markdown",
   "id": "e5bb53f0-4a32-46a8-8c61-cc7439c321c8",
   "metadata": {},
   "source": [
    "#### Agents\n",
    "\n",
    "The traders in this simulation are based on this paper: Carl Chiarella and Giulia Iori. A simulation analysis of the microstructure of double auction markets. Quantitative Finance, 2:346–353, 2002. \n",
    "\n",
    "This is a seminal paper that particularly models Limit Order Based exchanges simply.\n",
    "\n",
    "In this paper, each trader is modelled as a composite of the following types of traders:\n",
    "\n",
    "- Fundamentalist traders who believe the prices are mean reverting to a 'true price'\n",
    "- Chartists who use local trends to forecast prices\n",
    "- Noise traders who place trades randomly\n",
    "\n",
    "Our model will be based on code by Blake LeBaron from the [agentfin](http://people.brandeis.edu/~blebaron/classes/agentfin/Chiarellaetal.html) website.\n",
    "\n",
    "##### Sample Agent Code:"
   ]
  },
  {
   "cell_type": "code",
   "execution_count": null,
   "id": "4346a96e-ae94-4c93-96de-7b5955305e28",
   "metadata": {},
   "outputs": [],
   "source": []
  }
 ],
 "metadata": {
  "kernelspec": {
   "display_name": "Python 3 (ipykernel)",
   "language": "python",
   "name": "python3"
  },
  "language_info": {
   "codemirror_mode": {
    "name": "ipython",
    "version": 3
   },
   "file_extension": ".py",
   "mimetype": "text/x-python",
   "name": "python",
   "nbconvert_exporter": "python",
   "pygments_lexer": "ipython3",
   "version": "3.7.11"
  }
 },
 "nbformat": 4,
 "nbformat_minor": 5
}
