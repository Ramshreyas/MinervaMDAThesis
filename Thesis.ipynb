{
 "cells": [
  {
   "cell_type": "markdown",
   "id": "c20ca127-56bd-4582-bdf1-76db53f026d0",
   "metadata": {},
   "source": [
    "#### External price data for simulation\n",
    "\n",
    "In a Perpetual Futures market, traders are periodically awarded or penalized by a 'funding rate' based on whether their positions are above or below the price of the asset in the spot market, and whether they are long or short the position. For example, a trader who is long BTC at `$`40,000 will be awarded the funding rate if the current spot price is `$`42,000. A trader who is short (indeed, the trader who took the opposite side of the long position) will have to pay the same funding rate to the exchange. Since every long position is matched with a short position, the traders are basically paying each other each period, provided they have balances in their accounts.\n",
    "\n",
    "In our simulation, we will first simulate this external 'spot' price using a Geometric Brownian Motion (GBM) data-generating process. In the simulation, this artificial price feed will be used to decide the funding payments to the traders. This is the most commonly used model for simulating stock prices \\<will find citation source\\>\n",
    "\n",
    "Below, I code the GBM and show the stylized facts that establish it as a good model for artificial stock prices \\<as defined by citation source\\>"
   ]
  },
  {
   "cell_type": "code",
   "execution_count": null,
   "id": "81f9ca5b-ba34-446a-9293-68740a7d66b7",
   "metadata": {},
   "outputs": [],
   "source": []
  }
 ],
 "metadata": {
  "kernelspec": {
   "display_name": "Python 3 (ipykernel)",
   "language": "python",
   "name": "python3"
  },
  "language_info": {
   "codemirror_mode": {
    "name": "ipython",
    "version": 3
   },
   "file_extension": ".py",
   "mimetype": "text/x-python",
   "name": "python",
   "nbconvert_exporter": "python",
   "pygments_lexer": "ipython3",
   "version": "3.7.11"
  }
 },
 "nbformat": 4,
 "nbformat_minor": 5
}
