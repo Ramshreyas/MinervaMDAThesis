{
 "cells": [
  {
   "cell_type": "code",
   "execution_count": 4,
   "id": "6177d54d-fe03-45db-8b42-98efb41da1dc",
   "metadata": {},
   "outputs": [],
   "source": [
    "import numpy as np\n",
    "import matplotlib.pyplot as plt\n",
    "import numpy.random as rnd\n",
    "from scipy.stats import kurtosis\n",
    "import matplotlib.pyplot as plt\n",
    "import matplotlib.mlab as mlab\n",
    "import scipy.stats as stats\n",
    "import statsmodels.tsa.stattools as stattools\n",
    "\n",
    "# import primary objects\n",
    "from agent import agent\n",
    "from forecasts import forecasts\n",
    "from orderBook import orderBook"
   ]
  },
  {
   "cell_type": "markdown",
   "id": "9e8e7ccb-2ad3-4f44-82ce-294455e7fa68",
   "metadata": {},
   "source": [
    "#### Trading mechanism\n",
    "\n",
    "In a Perpetual Futures market, traders are periodically awarded or penalized by a 'funding rate' based on whether their entry positions are above or below the price of the asset in the spot market at the time of funding (which occurs periodically), and whether they are long or short the position. \n",
    "\n",
    "For example, a trader who is long BTC at `$`40,000 will receive the funding rate if the spot price is `$`42,000 at the time of funding. A trader who is short (indeed, the trader who took the opposite side of the long position) will have to pay the same funding rate to the exchange. Since every long position is matched with a short position, the traders are basically paying each other each period, provided they have balances in their accounts. \n",
    "\n",
    "Since the funding depends on the spot price data provided exogneously to the perpetual market, to create our simulation, we first need a data-generating process that creates these spot prices.\n",
    "\n",
    "#### External price data for simulation\n",
    "\n",
    "We will first simulate this external 'spot' price using a Geometric Brownian Motion (GBM) data-generating process. This is the most commonly used model for simulating stock prices \\<will include citation source\\>. \n",
    "\n",
    "A GBM is a stochastic process governed by the following equation:\n",
    "\n",
    "$ S_t = S_0 exp((\\mu - \\frac{\\sigma}{2}) + \\sigma W_t )$\n",
    "\n",
    "Where:\n",
    "\n",
    "$t$ : time \n",
    "\n",
    "$S_t$ : the price at time $t$\n",
    "\n",
    "$S_0$ : the price at $t = 0$\n",
    "\n",
    "$\\mu$ : a 'drift' variable representing the trend of the price movement\n",
    "\n",
    "$\\sigma$ : the volatility or variation of the prices (standard deviation). In this formulation, the volatility is constant, which is not very realistic. This will be addressed later.\n",
    "\n",
    "$W_t$ : a 'weiner process' representing the unpredictability of the prices (here a random walk)\n",
    "\n",
    "##### Sample Code:"
   ]
  },
  {
   "cell_type": "code",
   "execution_count": 22,
   "id": "b085539d-486f-4b9d-9454-6eb7ff1fa643",
   "metadata": {},
   "outputs": [
    {
     "ename": "NameError",
     "evalue": "name 'T' is not defined",
     "output_type": "error",
     "traceback": [
      "\u001b[1;31m---------------------------------------------------------------------------\u001b[0m",
      "\u001b[1;31mNameError\u001b[0m                                 Traceback (most recent call last)",
      "\u001b[1;32m~\\AppData\\Local\\Temp/ipykernel_8388/550831052.py\u001b[0m in \u001b[0;36m<module>\u001b[1;34m\u001b[0m\n\u001b[0;32m     12\u001b[0m \u001b[1;33m\u001b[0m\u001b[0m\n\u001b[0;32m     13\u001b[0m \u001b[1;31m# Generate the server ticks as a vector of length N, with interval dt (linspace splits T N times, starting at 0 here)\u001b[0m\u001b[1;33m\u001b[0m\u001b[1;33m\u001b[0m\u001b[1;33m\u001b[0m\u001b[0m\n\u001b[1;32m---> 14\u001b[1;33m \u001b[0mt\u001b[0m \u001b[1;33m=\u001b[0m \u001b[0mnp\u001b[0m\u001b[1;33m.\u001b[0m\u001b[0mlinspace\u001b[0m\u001b[1;33m(\u001b[0m\u001b[1;36m0\u001b[0m\u001b[1;33m,\u001b[0m \u001b[0mT\u001b[0m\u001b[1;33m,\u001b[0m \u001b[0mN\u001b[0m\u001b[1;33m)\u001b[0m\u001b[1;33m\u001b[0m\u001b[1;33m\u001b[0m\u001b[0m\n\u001b[0m\u001b[0;32m     15\u001b[0m \u001b[1;33m\u001b[0m\u001b[0m\n\u001b[0;32m     16\u001b[0m \u001b[1;31m# Generate weiner process\u001b[0m\u001b[1;33m\u001b[0m\u001b[1;33m\u001b[0m\u001b[1;33m\u001b[0m\u001b[0m\n",
      "\u001b[1;31mNameError\u001b[0m: name 'T' is not defined"
     ]
    }
   ],
   "source": [
    "# Time horizon over which the data will be generated. Can be understood as any period we so choose\n",
    "Time_horizon = 2\n",
    "\n",
    "mu = 0.1\n",
    "sigma = 0.1\n",
    "S0 = 20\n",
    "# Time interval for each server tick\n",
    "dt = 0.01\n",
    "\n",
    "# Number of server ticks in given time period\n",
    "N = round(Time_horizon/dt)\n",
    "\n",
    "# Generate the server ticks as a vector of length N, with interval dt (linspace splits T N times, starting at 0 here)\n",
    "t = np.linspace(0, T, N)\n",
    "\n",
    "# Generate weiner process \n",
    "# Draw N values from normal distribution for increment/decrement at each server tick, \n",
    "W = np.random.standard_normal(size = N) \n",
    "# then sum them cumulatively and scale by sqrt of dt to get random walk\n",
    "W = np.cumsum(W)*np.sqrt(dt) \n",
    "\n",
    "# Generate GBM using formula\n",
    "S = S0*np.exp((mu-0.5*sigma**2)*t + sigma*W)\n",
    "\n",
    "# Plot\n",
    "plt.plot(t, S)\n",
    "plt.show()"
   ]
  },
  {
   "cell_type": "markdown",
   "id": "e5bb53f0-4a32-46a8-8c61-cc7439c321c8",
   "metadata": {},
   "source": [
    "#### Agents\n",
    "\n",
    "The traders in this simulation are based on this paper: Carl Chiarella and Giulia Iori. A simulation analysis of the microstructure of double auction markets. Quantitative Finance, 2:346–353, 2002. \n",
    "\n",
    "This is a seminal paper that particularly models [Limit Order Book](https://en.wikipedia.org/wiki/Central_limit_order_book)-based exchanges simply.\n",
    "\n",
    "In this paper, each trader is modelled as a composite of the following types of traders:\n",
    "\n",
    "- Fundamentalist traders who believe the prices are mean reverting to a 'true price'\n",
    "- Chartists who use local trends to forecast prices\n",
    "- Noise traders who place trades randomly\n",
    "\n",
    "Our model will be based on code by Blake LeBaron from the [agentfin](http://people.brandeis.edu/~blebaron/classes/agentfin/Chiarellaetal.html) website.\n",
    "\n",
    "##### Sample Agent Code:"
   ]
  },
  {
   "cell_type": "code",
   "execution_count": 2,
   "id": "4346a96e-ae94-4c93-96de-7b5955305e28",
   "metadata": {},
   "outputs": [],
   "source": [
    "class agent:\n",
    "    \n",
    "    # Agent constructor\n",
    "    def __init__(self,sigmaF,sigmaM,sigmaN,kmax,Lmin,Lmax):\n",
    "        # set strategy weights randomly\n",
    "        # Fundamentalist weight is always positive\n",
    "        self.fundWeight =  np.abs(sigmaF*np.random.randn())\n",
    "        self.chartWeight = (sigmaM*np.random.randn())\n",
    "        self.noiseWeight = (sigmaN*np.random.randn())\n",
    "        # random horizon for momentum rules \n",
    "        self.l = np.random.randint(Lmin,Lmax)\n",
    "        # random component of spread\n",
    "        self.k = kmax*np.random.rand()\n",
    "        # Initialize forecasts\n",
    "        self.fcast = 0.\n",
    "        self.pfcast = 0.\n",
    "        self.wealth = 0.\n",
    "        self.bid = 0.\n",
    "        self.ask = 0.\n",
    "        # forecast adjustment weight\n",
    "        self.fcastAdjust = 1./(self.fundWeight+self.chartWeight+self.noiseWeight)\n",
    "    \n",
    "    # Function that forecasts the price for the next tick.\n",
    "    def updateFcast(self,forecast,price,tau):\n",
    "        # weighted forecast value\n",
    "        self.fcast = self.fcastAdjust*(self.fundWeight*forecast.fundamental+self.chartWeight*forecast.chartist[self.l] + \\\n",
    "            self.noiseWeight*forecast.noise)\n",
    "        # bound the forecast\n",
    "        self.fcast = min(self.fcast,0.5)\n",
    "        self.fcast = max(self.fcast,-0.5)\n",
    "        # exponentiate the forecast to get future price forecast \n",
    "        # note:  this could have a variance adjustment, but it doesn't at the moment\n",
    "        self.pfcast = price*np.exp(self.fcast+0.0*forecast.v)\n",
    "        \n",
    "    def getAgentOrder(self,price):\n",
    "        # generate bid or ask with k and forecast price\n",
    "        if self.pfcast > price:\n",
    "            self.bid = (1.-self.k)*self.pfcast\n",
    "        else :\n",
    "            self.ask = (1.+self.k)*self.pfcast"
   ]
  },
  {
   "cell_type": "markdown",
   "id": "b6fba1f5-23e1-4a16-9080-867967b7c60c",
   "metadata": {},
   "source": [
    "This code only instantiates the agents with a distribution of the weights each trader applies to a trading 'approach', and provides funcions that updates their price forecasts and orders. The actual forecast logic will be detailed below. \n",
    "\n",
    "##### Agent instantiation and distribution"
   ]
  },
  {
   "cell_type": "code",
   "execution_count": 19,
   "id": "1fa38bc1-dd5a-4152-af1d-e528d3e24273",
   "metadata": {},
   "outputs": [],
   "source": [
    "# Set number of agents\n",
    "nAgents = 500\n",
    "# Default weights for \n",
    "# Fundamentalist weight\n",
    "sigmaF = 1.\n",
    "# Chartist weight\n",
    "sigmaM = 1.\n",
    "# Noise weight\n",
    "sigmaN = 1.\n",
    "# horizons for momentum rules \n",
    "Lmin = 5\n",
    "Lmax = 50\n",
    "# random component of spread\n",
    "kMax = 0.5\n",
    "\n",
    "# holder list for agent objects\n",
    "agentList = []\n",
    "for i in range(nAgents):\n",
    "    agentList.append(agent(sigmaF,sigmaM,sigmaN,kMax,Lmin,Lmax))\n",
    "\n",
    "fundWeightList = [a.fundWeight for a in agentList]\n",
    "chartWeightList = [a.chartWeight for a in agentList]\n",
    "noiseWeightList = [a.noiseWeight for a in agentList]"
   ]
  },
  {
   "cell_type": "markdown",
   "id": "71900d2b-8d40-4520-9866-7c80d4749a13",
   "metadata": {},
   "source": [
    "The agent population thus created has a distribution across the various strategies, with fundamentalist always having a positive weight, whilst chartists and noise traders can be negative as well as positively weighted. This functionality allows us to control the characteristics of the trading population with regard to these trading strategies. The distribution is visualized below, with fundamentalist wights on the x-axis, chartist weights on the y-axis and noise trader weights on the z-axis:"
   ]
  },
  {
   "cell_type": "code",
   "execution_count": 21,
   "id": "e1860130-e8d4-46f9-b93d-aa69cc7add3f",
   "metadata": {},
   "outputs": [
    {
     "data": {
      "text/plain": [
       "<mpl_toolkits.mplot3d.art3d.Path3DCollection at 0x2ad5f232f88>"
      ]
     },
     "execution_count": 21,
     "metadata": {},
     "output_type": "execute_result"
    },
    {
     "data": {
      "image/png": "[encoded data removed]",
      "text/plain": [
       "<Figure size 432x288 with 1 Axes>"
      ]
     },
     "metadata": {
      "needs_background": "light"
     },
     "output_type": "display_data"
    }
   ],
   "source": [
    "fig = plt.figure()\n",
    "ax = plt.axes(projection='3d')\n",
    "ax.scatter3D(fundWeightList, chartWeightList, noiseWeightList, cmap = 'Greens')"
   ]
  },
  {
   "cell_type": "code",
   "execution_count": null,
   "id": "21941c43-0550-4d7f-afc0-bd14b1dfbf3f",
   "metadata": {},
   "outputs": [],
   "source": []
  }
 ],
 "metadata": {
  "kernelspec": {
   "display_name": "Python 3 (ipykernel)",
   "language": "python",
   "name": "python3"
  },
  "language_info": {
   "codemirror_mode": {
    "name": "ipython",
    "version": 3
   },
   "file_extension": ".py",
   "mimetype": "text/x-python",
   "name": "python",
   "nbconvert_exporter": "python",
   "pygments_lexer": "ipython3",
   "version": "3.7.11"
  }
 },
 "nbformat": 4,
 "nbformat_minor": 5
}
